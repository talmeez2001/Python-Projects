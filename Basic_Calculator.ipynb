{
 "cells": [
  {
   "cell_type": "code",
   "execution_count": 2,
   "id": "c609a978",
   "metadata": {},
   "outputs": [
    {
     "name": "stdout",
     "output_type": "stream",
     "text": [
      "Options:\n",
      "Enter '+' for addition\n",
      "Enter '-' for subtraction\n",
      "Enter '*' for multiplication\n",
      "Enter '/' for division\n",
      "Enter 'exit' to end the program\n",
      ": +\n",
      "Enter first number: 25\n",
      "Enter second number: 35\n",
      "Result: 60.0\n",
      "Options:\n",
      "Enter '+' for addition\n",
      "Enter '-' for subtraction\n",
      "Enter '*' for multiplication\n",
      "Enter '/' for division\n",
      "Enter 'exit' to end the program\n",
      ": exit\n"
     ]
    }
   ],
   "source": [
    "#TechnoHacks Edutech Python Development Internship Task 01:\n",
    "\n",
    "'''Create a basic calculator that can perform basic arithmetic operations such as addition, subtraction, multiplication and \n",
    "   division using functions'''\n",
    "\n",
    "\n",
    "\n",
    "def add(x, y):   # Function to perform addition\n",
    "    return x + y\n",
    "\n",
    "\n",
    "def subtract(x, y):  # Function to perform subtraction\n",
    "    return x - y\n",
    "\n",
    "\n",
    "def multiply(x, y):   # Function to perform multiplication\n",
    "    return x * y\n",
    "\n",
    "\n",
    "def divide(x, y):     # Function to perform division\n",
    "    if y == 0:\n",
    "        return \"Cannot divide by zero\"\n",
    "    return x / y\n",
    "\n",
    "def main():   # Main calculator program\n",
    "    while True:\n",
    "        print(\"Options:\")\n",
    "        print(\"Enter '+' for addition\")\n",
    "        print(\"Enter '-' for subtraction\")\n",
    "        print(\"Enter '*' for multiplication\")\n",
    "        print(\"Enter '/' for division\")\n",
    "        print(\"Enter 'exit' to end the program\")\n",
    "        user_input = input(\": \")\n",
    "\n",
    "        if user_input == \"exit\":\n",
    "            break\n",
    "        elif user_input in [\"+\", \"-\", \"*\", \"/\"]:\n",
    "            num1 = float(input(\"Enter first number: \"))\n",
    "            num2 = float(input(\"Enter second number: \"))\n",
    "\n",
    "            if user_input == \"+\":\n",
    "                print(\"Result:\", add(num1, num2))\n",
    "            elif user_input == \"-\":\n",
    "                print(\"Result:\", subtract(num1, num2))\n",
    "            elif user_input == \"*\":\n",
    "                print(\"Result:\", multiply(num1, num2))\n",
    "            elif user_input == \"/\":\n",
    "                print(\"Result:\", divide(num1, num2))\n",
    "        else:\n",
    "            print(\"Invalid input. Please enter a valid operation.\")\n",
    "        \n",
    "main()\n",
    "    \n",
    "\n",
    "\n"
   ]
  },
  {
   "cell_type": "code",
   "execution_count": null,
   "id": "7aa15a3b",
   "metadata": {},
   "outputs": [],
   "source": []
  }
 ],
 "metadata": {
  "kernelspec": {
   "display_name": "Python 3 (ipykernel)",
   "language": "python",
   "name": "python3"
  },
  "language_info": {
   "codemirror_mode": {
    "name": "ipython",
    "version": 3
   },
   "file_extension": ".py",
   "mimetype": "text/x-python",
   "name": "python",
   "nbconvert_exporter": "python",
   "pygments_lexer": "ipython3",
   "version": "3.11.4"
  }
 },
 "nbformat": 4,
 "nbformat_minor": 5
}
