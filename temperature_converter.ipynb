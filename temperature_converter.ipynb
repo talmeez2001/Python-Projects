{
 "cells": [
  {
   "cell_type": "code",
   "execution_count": 1,
   "id": "d07756c3",
   "metadata": {
    "scrolled": true
   },
   "outputs": [
    {
     "name": "stdout",
     "output_type": "stream",
     "text": [
      "\n",
      " Options:\n",
      "Enter '1' to convert Fahrenheit to Celsius\n",
      "Enter '2' to convert Celsius to Fahrenheit\n",
      "Enter 'exit' to end the program\n",
      ": 2\n",
      "Enter temperature in Celsius: 100\n",
      "\n",
      "100.0°C is equal to 212.0°F\n",
      "\n",
      " Options:\n",
      "Enter '1' to convert Fahrenheit to Celsius\n",
      "Enter '2' to convert Celsius to Fahrenheit\n",
      "Enter 'exit' to end the program\n",
      ": exit\n"
     ]
    }
   ],
   "source": [
    "#TechnoHacks Edutech Python Development Internship Task 02:\n",
    "\n",
    "'''Create a program that allows the user to convert temperatures between Fahrenheit and Celsius.'''\n",
    "\n",
    "\n",
    "\n",
    "def fahrenheit_to_celsius(fahrenheit):\n",
    "    celsius = (fahrenheit - 32) * 5/9\n",
    "    return celsius\n",
    "\n",
    "def celsius_to_fahrenheit(celsius):\n",
    "    fahrenheit = (celsius * 9/5) + 32\n",
    "    return fahrenheit\n",
    "\n",
    "def main():\n",
    "    \n",
    "    while True:\n",
    "        print(\"\\n Options:\")\n",
    "        print(\"Enter '1' to convert Fahrenheit to Celsius\")\n",
    "        print(\"Enter '2' to convert Celsius to Fahrenheit\")\n",
    "        print(\"Enter 'exit' to end the program\")\n",
    "\n",
    "        user_input = input(\": \")\n",
    "\n",
    "        if user_input == \"exit\":\n",
    "            break\n",
    "        elif user_input == \"1\":\n",
    "            fahrenheit = float(input(\"Enter temperature in Fahrenheit: \"))\n",
    "            celsius = fahrenheit_to_celsius(fahrenheit)\n",
    "            print(f\"\\n {fahrenheit}°F is equal to {celsius}°C\")\n",
    "        elif user_input == \"2\":\n",
    "            celsius = float(input(\"Enter temperature in Celsius: \"))\n",
    "            fahrenheit = celsius_to_fahrenheit(celsius)\n",
    "            print(f\"\\n{celsius}°C is equal to {fahrenheit}°F\")\n",
    "        else:\n",
    "            print(\"Invalid input. Please enter a valid option.\")\n",
    "            \n",
    "main()\n"
   ]
  },
  {
   "cell_type": "code",
   "execution_count": null,
   "id": "e4d91e63",
   "metadata": {},
   "outputs": [],
   "source": []
  }
 ],
 "metadata": {
  "kernelspec": {
   "display_name": "Python 3 (ipykernel)",
   "language": "python",
   "name": "python3"
  },
  "language_info": {
   "codemirror_mode": {
    "name": "ipython",
    "version": 3
   },
   "file_extension": ".py",
   "mimetype": "text/x-python",
   "name": "python",
   "nbconvert_exporter": "python",
   "pygments_lexer": "ipython3",
   "version": "3.11.4"
  }
 },
 "nbformat": 4,
 "nbformat_minor": 5
}
